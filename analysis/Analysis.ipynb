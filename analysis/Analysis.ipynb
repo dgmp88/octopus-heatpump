{
 "cells": [
  {
   "cell_type": "code",
   "execution_count": 1,
   "metadata": {},
   "outputs": [
    {
     "name": "stdout",
     "output_type": "stream",
     "text": [
      "got next...\n",
      "got next...\n"
     ]
    }
   ],
   "source": [
    "import base64\n",
    "import dotenv\n",
    "import requests\n",
    "import os\n",
    "\n",
    "dotenv.load_dotenv()\n",
    "\n",
    "OCTOPUS_API_KEY = os.getenv(\"OCTOPUS_API_KEY\")\n",
    "OCTOPUS_BASE_URL = \"https://api.octopus.energy/v1\"\n",
    "METER_MPAN = os.getenv(\"METER_MPAN\")\n",
    "METER_SERIAL = os.getenv(\"METER_SERIAL\")\n",
    "\n",
    "periodFrom = \"2024-11-15T00:00:00Z\"\n",
    "periodTo = \"2024-11-20T00:00:00Z\"\n",
    "\n",
    "url = f\"{OCTOPUS_BASE_URL}/electricity-meter-points/{METER_MPAN}/meters/{METER_SERIAL}/consumption/?period_from={periodFrom}&period_to={periodTo}\"\n",
    "\n",
    "# Base 64 encode the API key\n",
    "b64_api_key = base64.b64encode(OCTOPUS_API_KEY.encode())\n",
    "\n",
    "\n",
    "results = []\n",
    "\n",
    "while True:\n",
    "    response = requests.get(url, headers={\"Authorization\": f\"Basic {b64_api_key.decode()}:\"})\n",
    "    response_json = response.json()\n",
    "    results.extend(response_json[\"results\"])\n",
    "\n",
    "    next_url = response_json.get(\"next\")\n",
    "    if next_url:\n",
    "        print(\"got next...\")\n",
    "        url = response_json[\"next\"]\n",
    "    else:\n",
    "        break"
   ]
  },
  {
   "cell_type": "code",
   "execution_count": 2,
   "metadata": {},
   "outputs": [],
   "source": [
    "import pandas as pd \n",
    "df = pd.DataFrame(results)"
   ]
  },
  {
   "cell_type": "code",
   "execution_count": 3,
   "metadata": {},
   "outputs": [
    {
     "data": {
      "application/vnd.plotly.v1+json": {
       "config": {
        "plotlyServerURL": "https://plot.ly"
       },
       "data": [
        {
         "alignmentgroup": "True",
         "hovertemplate": "interval_start=%{x}<br>consumption=%{y}<extra></extra>",
         "legendgroup": "",
         "marker": {
          "color": "#636efa",
          "pattern": {
           "shape": ""
          }
         },
         "name": "",
         "offsetgroup": "",
         "orientation": "v",
         "showlegend": false,
         "textposition": "auto",
         "type": "bar",
         "x": [
          "2024-11-20T00:00:00Z",
          "2024-11-19T23:30:00Z",
          "2024-11-19T23:00:00Z",
          "2024-11-19T22:30:00Z",
          "2024-11-19T22:00:00Z",
          "2024-11-19T21:30:00Z",
          "2024-11-19T21:00:00Z",
          "2024-11-19T20:30:00Z",
          "2024-11-19T20:00:00Z",
          "2024-11-19T19:30:00Z",
          "2024-11-19T19:00:00Z",
          "2024-11-19T18:30:00Z",
          "2024-11-19T18:00:00Z",
          "2024-11-19T17:30:00Z",
          "2024-11-19T17:00:00Z",
          "2024-11-19T16:30:00Z",
          "2024-11-19T16:00:00Z",
          "2024-11-19T15:30:00Z",
          "2024-11-19T15:00:00Z",
          "2024-11-19T14:30:00Z",
          "2024-11-19T14:00:00Z",
          "2024-11-19T13:30:00Z",
          "2024-11-19T13:00:00Z",
          "2024-11-19T12:30:00Z",
          "2024-11-19T12:00:00Z",
          "2024-11-19T11:30:00Z",
          "2024-11-19T11:00:00Z",
          "2024-11-19T10:30:00Z",
          "2024-11-19T10:00:00Z",
          "2024-11-19T09:30:00Z",
          "2024-11-19T09:00:00Z",
          "2024-11-19T08:30:00Z",
          "2024-11-19T08:00:00Z",
          "2024-11-19T07:30:00Z",
          "2024-11-19T07:00:00Z",
          "2024-11-19T06:30:00Z",
          "2024-11-19T06:00:00Z",
          "2024-11-19T05:30:00Z",
          "2024-11-19T05:00:00Z",
          "2024-11-19T04:30:00Z",
          "2024-11-19T04:00:00Z",
          "2024-11-19T03:30:00Z",
          "2024-11-19T03:00:00Z",
          "2024-11-19T02:30:00Z",
          "2024-11-19T02:00:00Z",
          "2024-11-19T01:30:00Z",
          "2024-11-19T01:00:00Z",
          "2024-11-19T00:30:00Z",
          "2024-11-19T00:00:00Z",
          "2024-11-18T23:30:00Z",
          "2024-11-18T23:00:00Z",
          "2024-11-18T22:30:00Z",
          "2024-11-18T22:00:00Z",
          "2024-11-18T21:30:00Z",
          "2024-11-18T21:00:00Z",
          "2024-11-18T20:30:00Z",
          "2024-11-18T20:00:00Z",
          "2024-11-18T19:30:00Z",
          "2024-11-18T19:00:00Z",
          "2024-11-18T18:30:00Z",
          "2024-11-18T18:00:00Z",
          "2024-11-18T17:30:00Z",
          "2024-11-18T17:00:00Z",
          "2024-11-18T16:30:00Z",
          "2024-11-18T16:00:00Z",
          "2024-11-18T15:30:00Z",
          "2024-11-18T15:00:00Z",
          "2024-11-18T14:30:00Z",
          "2024-11-18T14:00:00Z",
          "2024-11-18T13:30:00Z",
          "2024-11-18T13:00:00Z",
          "2024-11-18T12:30:00Z",
          "2024-11-18T12:00:00Z",
          "2024-11-18T11:30:00Z",
          "2024-11-18T11:00:00Z",
          "2024-11-18T10:30:00Z",
          "2024-11-18T10:00:00Z",
          "2024-11-18T09:30:00Z",
          "2024-11-18T09:00:00Z",
          "2024-11-18T08:30:00Z",
          "2024-11-18T08:00:00Z",
          "2024-11-18T07:30:00Z",
          "2024-11-18T07:00:00Z",
          "2024-11-18T06:30:00Z",
          "2024-11-18T06:00:00Z",
          "2024-11-18T05:30:00Z",
          "2024-11-18T05:00:00Z",
          "2024-11-18T04:30:00Z",
          "2024-11-18T04:00:00Z",
          "2024-11-18T03:30:00Z",
          "2024-11-18T03:00:00Z",
          "2024-11-18T02:30:00Z",
          "2024-11-18T02:00:00Z",
          "2024-11-18T01:30:00Z",
          "2024-11-18T01:00:00Z",
          "2024-11-18T00:30:00Z",
          "2024-11-18T00:00:00Z",
          "2024-11-17T23:30:00Z",
          "2024-11-17T23:00:00Z",
          "2024-11-17T22:30:00Z",
          "2024-11-17T22:00:00Z",
          "2024-11-17T21:30:00Z",
          "2024-11-17T21:00:00Z",
          "2024-11-17T20:30:00Z",
          "2024-11-17T20:00:00Z",
          "2024-11-17T19:30:00Z",
          "2024-11-17T19:00:00Z",
          "2024-11-17T18:30:00Z",
          "2024-11-17T18:00:00Z",
          "2024-11-17T17:30:00Z",
          "2024-11-17T17:00:00Z",
          "2024-11-17T16:30:00Z",
          "2024-11-17T16:00:00Z",
          "2024-11-17T15:30:00Z",
          "2024-11-17T15:00:00Z",
          "2024-11-17T14:30:00Z",
          "2024-11-17T14:00:00Z",
          "2024-11-17T13:30:00Z",
          "2024-11-17T13:00:00Z",
          "2024-11-17T12:30:00Z",
          "2024-11-17T12:00:00Z",
          "2024-11-17T11:30:00Z",
          "2024-11-17T11:00:00Z",
          "2024-11-17T10:30:00Z",
          "2024-11-17T10:00:00Z",
          "2024-11-17T09:30:00Z",
          "2024-11-17T09:00:00Z",
          "2024-11-17T08:30:00Z",
          "2024-11-17T08:00:00Z",
          "2024-11-17T07:30:00Z",
          "2024-11-17T07:00:00Z",
          "2024-11-17T06:30:00Z",
          "2024-11-17T06:00:00Z",
          "2024-11-17T05:30:00Z",
          "2024-11-17T05:00:00Z",
          "2024-11-17T04:30:00Z",
          "2024-11-17T04:00:00Z",
          "2024-11-17T03:30:00Z",
          "2024-11-17T03:00:00Z",
          "2024-11-17T02:30:00Z",
          "2024-11-17T02:00:00Z",
          "2024-11-17T01:30:00Z",
          "2024-11-17T01:00:00Z",
          "2024-11-17T00:30:00Z",
          "2024-11-17T00:00:00Z",
          "2024-11-16T23:30:00Z",
          "2024-11-16T23:00:00Z",
          "2024-11-16T22:30:00Z",
          "2024-11-16T22:00:00Z",
          "2024-11-16T21:30:00Z",
          "2024-11-16T21:00:00Z",
          "2024-11-16T20:30:00Z",
          "2024-11-16T20:00:00Z",
          "2024-11-16T19:30:00Z",
          "2024-11-16T19:00:00Z",
          "2024-11-16T18:30:00Z",
          "2024-11-16T18:00:00Z",
          "2024-11-16T17:30:00Z",
          "2024-11-16T17:00:00Z",
          "2024-11-16T16:30:00Z",
          "2024-11-16T16:00:00Z",
          "2024-11-16T15:30:00Z",
          "2024-11-16T15:00:00Z",
          "2024-11-16T14:30:00Z",
          "2024-11-16T14:00:00Z",
          "2024-11-16T13:30:00Z",
          "2024-11-16T13:00:00Z",
          "2024-11-16T12:30:00Z",
          "2024-11-16T12:00:00Z",
          "2024-11-16T11:30:00Z",
          "2024-11-16T11:00:00Z",
          "2024-11-16T10:30:00Z",
          "2024-11-16T10:00:00Z",
          "2024-11-16T09:30:00Z",
          "2024-11-16T09:00:00Z",
          "2024-11-16T08:30:00Z",
          "2024-11-16T08:00:00Z",
          "2024-11-16T07:30:00Z",
          "2024-11-16T07:00:00Z",
          "2024-11-16T06:30:00Z",
          "2024-11-16T06:00:00Z",
          "2024-11-16T05:30:00Z",
          "2024-11-16T05:00:00Z",
          "2024-11-16T04:30:00Z",
          "2024-11-16T04:00:00Z",
          "2024-11-16T03:30:00Z",
          "2024-11-16T03:00:00Z",
          "2024-11-16T02:30:00Z",
          "2024-11-16T02:00:00Z",
          "2024-11-16T01:30:00Z",
          "2024-11-16T01:00:00Z",
          "2024-11-16T00:30:00Z",
          "2024-11-16T00:00:00Z",
          "2024-11-15T23:30:00Z",
          "2024-11-15T23:00:00Z",
          "2024-11-15T22:30:00Z",
          "2024-11-15T22:00:00Z",
          "2024-11-15T21:30:00Z",
          "2024-11-15T21:00:00Z",
          "2024-11-15T20:30:00Z",
          "2024-11-15T20:00:00Z",
          "2024-11-15T19:30:00Z",
          "2024-11-15T19:00:00Z",
          "2024-11-15T18:30:00Z",
          "2024-11-15T18:00:00Z",
          "2024-11-15T17:30:00Z",
          "2024-11-15T17:00:00Z",
          "2024-11-15T16:30:00Z",
          "2024-11-15T16:00:00Z",
          "2024-11-15T15:30:00Z",
          "2024-11-15T15:00:00Z",
          "2024-11-15T14:30:00Z",
          "2024-11-15T14:00:00Z",
          "2024-11-15T13:30:00Z",
          "2024-11-15T13:00:00Z",
          "2024-11-15T12:30:00Z",
          "2024-11-15T12:00:00Z",
          "2024-11-15T11:30:00Z",
          "2024-11-15T11:00:00Z",
          "2024-11-15T10:30:00Z",
          "2024-11-15T10:00:00Z",
          "2024-11-15T09:30:00Z",
          "2024-11-15T09:00:00Z",
          "2024-11-15T08:30:00Z",
          "2024-11-15T08:00:00Z",
          "2024-11-15T07:30:00Z",
          "2024-11-15T07:00:00Z",
          "2024-11-15T06:30:00Z",
          "2024-11-15T06:00:00Z",
          "2024-11-15T05:30:00Z",
          "2024-11-15T05:00:00Z",
          "2024-11-15T04:30:00Z",
          "2024-11-15T04:00:00Z",
          "2024-11-15T03:30:00Z",
          "2024-11-15T03:00:00Z",
          "2024-11-15T02:30:00Z",
          "2024-11-15T02:00:00Z",
          "2024-11-15T01:30:00Z",
          "2024-11-15T01:00:00Z",
          "2024-11-15T00:30:00Z",
          "2024-11-15T00:00:00Z"
         ],
         "xaxis": "x",
         "y": [
          0.285,
          0.2,
          0.208,
          0.261,
          0.278,
          1.287,
          1.436,
          1.223,
          1.641,
          1.691,
          1.089,
          0.133,
          0.127,
          0.144,
          0.134,
          0.103,
          0.115,
          1.166,
          1.101,
          1.041,
          1.116,
          1.436,
          1.217,
          1.026,
          1.538,
          0.79,
          1.436,
          1.262,
          1.298,
          1.407,
          1.58,
          1.277,
          1.203,
          1.193,
          1.356,
          1.271,
          1.425,
          1.267,
          1.339,
          1.028,
          0.995,
          0.069,
          0.089,
          0.107,
          0.101,
          1.583,
          1.273,
          0.051,
          0.059,
          0.065,
          0.122,
          0.121,
          0.221,
          0.148,
          0.178,
          0.229,
          0.134,
          0.179,
          0.416,
          0.208,
          0.212,
          0.192,
          0.191,
          0.203,
          0.181,
          0.972,
          0.991,
          0.799,
          0.86,
          1.229,
          1.171,
          0.967,
          0.883,
          0.838,
          0.747,
          0.739,
          0.86,
          0.934,
          0.95,
          1.011,
          0.904,
          0.872,
          0.789,
          0.866,
          0.849,
          0.854,
          1.223,
          0.999,
          1.319,
          0.05,
          0.057,
          0.051,
          0.07,
          0.086,
          0.088,
          0.049,
          0.054,
          0.057,
          0.051,
          0.104,
          0.095,
          0.127,
          0.145,
          0.204,
          0.694,
          0.494,
          0.536,
          0.116,
          0.102,
          0.094,
          0.106,
          0.122,
          0.176,
          0.763,
          0.746,
          0.705,
          1.131,
          1.277,
          1.257,
          0.786,
          0.887,
          0.822,
          0.737,
          0.793,
          0.75,
          1.153,
          1.369,
          0.941,
          0.98,
          0.896,
          0.947,
          1.207,
          1.275,
          1.107,
          0.157,
          0.054,
          0.053,
          0.05,
          0.056,
          0.047,
          0.057,
          0.047,
          0.058,
          0.052,
          0.073,
          0.089,
          0.138,
          0.134,
          0.175,
          0.193,
          0.199,
          0.186,
          0.191,
          0.206,
          1.066,
          0.684,
          0.295,
          0.058,
          0.048,
          0.05,
          0.068,
          0.795,
          0.816,
          0.827,
          0.625,
          0.725,
          1.351,
          0.686,
          0.539,
          0.564,
          0.653,
          0.627,
          0.676,
          0.753,
          1.008,
          0.682,
          0.746,
          0.615,
          0.598,
          1.034,
          1.393,
          1.109,
          0.378,
          0.047,
          0.052,
          0.054,
          0.047,
          0.05,
          0.055,
          0.05,
          0.051,
          0.061,
          0.104,
          0.137,
          0.205,
          0.196,
          0.714,
          0.944,
          1.696,
          0.119,
          0.108,
          0.102,
          0.106,
          0.122,
          0.164,
          0.158,
          0.155,
          0.15,
          0.122,
          0.694,
          0.76,
          0.764,
          0.762,
          1.039,
          1.215,
          0.81,
          0.759,
          0.681,
          0.67,
          0.67,
          0.693,
          0.685,
          0.815,
          0.578,
          0.529,
          0.642,
          0.446,
          0.675,
          1.38,
          1.065,
          0.129,
          0.052,
          0.047,
          0.053,
          0.055,
          0.047,
          0.051,
          0.053,
          0.051,
          0.052,
          0.058
         ],
         "yaxis": "y"
        }
       ],
       "layout": {
        "barmode": "relative",
        "legend": {
         "tracegroupgap": 0
        },
        "margin": {
         "t": 60
        },
        "template": {
         "data": {
          "bar": [
           {
            "error_x": {
             "color": "#2a3f5f"
            },
            "error_y": {
             "color": "#2a3f5f"
            },
            "marker": {
             "line": {
              "color": "#E5ECF6",
              "width": 0.5
             },
             "pattern": {
              "fillmode": "overlay",
              "size": 10,
              "solidity": 0.2
             }
            },
            "type": "bar"
           }
          ],
          "barpolar": [
           {
            "marker": {
             "line": {
              "color": "#E5ECF6",
              "width": 0.5
             },
             "pattern": {
              "fillmode": "overlay",
              "size": 10,
              "solidity": 0.2
             }
            },
            "type": "barpolar"
           }
          ],
          "carpet": [
           {
            "aaxis": {
             "endlinecolor": "#2a3f5f",
             "gridcolor": "white",
             "linecolor": "white",
             "minorgridcolor": "white",
             "startlinecolor": "#2a3f5f"
            },
            "baxis": {
             "endlinecolor": "#2a3f5f",
             "gridcolor": "white",
             "linecolor": "white",
             "minorgridcolor": "white",
             "startlinecolor": "#2a3f5f"
            },
            "type": "carpet"
           }
          ],
          "choropleth": [
           {
            "colorbar": {
             "outlinewidth": 0,
             "ticks": ""
            },
            "type": "choropleth"
           }
          ],
          "contour": [
           {
            "colorbar": {
             "outlinewidth": 0,
             "ticks": ""
            },
            "colorscale": [
             [
              0,
              "#0d0887"
             ],
             [
              0.1111111111111111,
              "#46039f"
             ],
             [
              0.2222222222222222,
              "#7201a8"
             ],
             [
              0.3333333333333333,
              "#9c179e"
             ],
             [
              0.4444444444444444,
              "#bd3786"
             ],
             [
              0.5555555555555556,
              "#d8576b"
             ],
             [
              0.6666666666666666,
              "#ed7953"
             ],
             [
              0.7777777777777778,
              "#fb9f3a"
             ],
             [
              0.8888888888888888,
              "#fdca26"
             ],
             [
              1,
              "#f0f921"
             ]
            ],
            "type": "contour"
           }
          ],
          "contourcarpet": [
           {
            "colorbar": {
             "outlinewidth": 0,
             "ticks": ""
            },
            "type": "contourcarpet"
           }
          ],
          "heatmap": [
           {
            "colorbar": {
             "outlinewidth": 0,
             "ticks": ""
            },
            "colorscale": [
             [
              0,
              "#0d0887"
             ],
             [
              0.1111111111111111,
              "#46039f"
             ],
             [
              0.2222222222222222,
              "#7201a8"
             ],
             [
              0.3333333333333333,
              "#9c179e"
             ],
             [
              0.4444444444444444,
              "#bd3786"
             ],
             [
              0.5555555555555556,
              "#d8576b"
             ],
             [
              0.6666666666666666,
              "#ed7953"
             ],
             [
              0.7777777777777778,
              "#fb9f3a"
             ],
             [
              0.8888888888888888,
              "#fdca26"
             ],
             [
              1,
              "#f0f921"
             ]
            ],
            "type": "heatmap"
           }
          ],
          "heatmapgl": [
           {
            "colorbar": {
             "outlinewidth": 0,
             "ticks": ""
            },
            "colorscale": [
             [
              0,
              "#0d0887"
             ],
             [
              0.1111111111111111,
              "#46039f"
             ],
             [
              0.2222222222222222,
              "#7201a8"
             ],
             [
              0.3333333333333333,
              "#9c179e"
             ],
             [
              0.4444444444444444,
              "#bd3786"
             ],
             [
              0.5555555555555556,
              "#d8576b"
             ],
             [
              0.6666666666666666,
              "#ed7953"
             ],
             [
              0.7777777777777778,
              "#fb9f3a"
             ],
             [
              0.8888888888888888,
              "#fdca26"
             ],
             [
              1,
              "#f0f921"
             ]
            ],
            "type": "heatmapgl"
           }
          ],
          "histogram": [
           {
            "marker": {
             "pattern": {
              "fillmode": "overlay",
              "size": 10,
              "solidity": 0.2
             }
            },
            "type": "histogram"
           }
          ],
          "histogram2d": [
           {
            "colorbar": {
             "outlinewidth": 0,
             "ticks": ""
            },
            "colorscale": [
             [
              0,
              "#0d0887"
             ],
             [
              0.1111111111111111,
              "#46039f"
             ],
             [
              0.2222222222222222,
              "#7201a8"
             ],
             [
              0.3333333333333333,
              "#9c179e"
             ],
             [
              0.4444444444444444,
              "#bd3786"
             ],
             [
              0.5555555555555556,
              "#d8576b"
             ],
             [
              0.6666666666666666,
              "#ed7953"
             ],
             [
              0.7777777777777778,
              "#fb9f3a"
             ],
             [
              0.8888888888888888,
              "#fdca26"
             ],
             [
              1,
              "#f0f921"
             ]
            ],
            "type": "histogram2d"
           }
          ],
          "histogram2dcontour": [
           {
            "colorbar": {
             "outlinewidth": 0,
             "ticks": ""
            },
            "colorscale": [
             [
              0,
              "#0d0887"
             ],
             [
              0.1111111111111111,
              "#46039f"
             ],
             [
              0.2222222222222222,
              "#7201a8"
             ],
             [
              0.3333333333333333,
              "#9c179e"
             ],
             [
              0.4444444444444444,
              "#bd3786"
             ],
             [
              0.5555555555555556,
              "#d8576b"
             ],
             [
              0.6666666666666666,
              "#ed7953"
             ],
             [
              0.7777777777777778,
              "#fb9f3a"
             ],
             [
              0.8888888888888888,
              "#fdca26"
             ],
             [
              1,
              "#f0f921"
             ]
            ],
            "type": "histogram2dcontour"
           }
          ],
          "mesh3d": [
           {
            "colorbar": {
             "outlinewidth": 0,
             "ticks": ""
            },
            "type": "mesh3d"
           }
          ],
          "parcoords": [
           {
            "line": {
             "colorbar": {
              "outlinewidth": 0,
              "ticks": ""
             }
            },
            "type": "parcoords"
           }
          ],
          "pie": [
           {
            "automargin": true,
            "type": "pie"
           }
          ],
          "scatter": [
           {
            "fillpattern": {
             "fillmode": "overlay",
             "size": 10,
             "solidity": 0.2
            },
            "type": "scatter"
           }
          ],
          "scatter3d": [
           {
            "line": {
             "colorbar": {
              "outlinewidth": 0,
              "ticks": ""
             }
            },
            "marker": {
             "colorbar": {
              "outlinewidth": 0,
              "ticks": ""
             }
            },
            "type": "scatter3d"
           }
          ],
          "scattercarpet": [
           {
            "marker": {
             "colorbar": {
              "outlinewidth": 0,
              "ticks": ""
             }
            },
            "type": "scattercarpet"
           }
          ],
          "scattergeo": [
           {
            "marker": {
             "colorbar": {
              "outlinewidth": 0,
              "ticks": ""
             }
            },
            "type": "scattergeo"
           }
          ],
          "scattergl": [
           {
            "marker": {
             "colorbar": {
              "outlinewidth": 0,
              "ticks": ""
             }
            },
            "type": "scattergl"
           }
          ],
          "scattermapbox": [
           {
            "marker": {
             "colorbar": {
              "outlinewidth": 0,
              "ticks": ""
             }
            },
            "type": "scattermapbox"
           }
          ],
          "scatterpolar": [
           {
            "marker": {
             "colorbar": {
              "outlinewidth": 0,
              "ticks": ""
             }
            },
            "type": "scatterpolar"
           }
          ],
          "scatterpolargl": [
           {
            "marker": {
             "colorbar": {
              "outlinewidth": 0,
              "ticks": ""
             }
            },
            "type": "scatterpolargl"
           }
          ],
          "scatterternary": [
           {
            "marker": {
             "colorbar": {
              "outlinewidth": 0,
              "ticks": ""
             }
            },
            "type": "scatterternary"
           }
          ],
          "surface": [
           {
            "colorbar": {
             "outlinewidth": 0,
             "ticks": ""
            },
            "colorscale": [
             [
              0,
              "#0d0887"
             ],
             [
              0.1111111111111111,
              "#46039f"
             ],
             [
              0.2222222222222222,
              "#7201a8"
             ],
             [
              0.3333333333333333,
              "#9c179e"
             ],
             [
              0.4444444444444444,
              "#bd3786"
             ],
             [
              0.5555555555555556,
              "#d8576b"
             ],
             [
              0.6666666666666666,
              "#ed7953"
             ],
             [
              0.7777777777777778,
              "#fb9f3a"
             ],
             [
              0.8888888888888888,
              "#fdca26"
             ],
             [
              1,
              "#f0f921"
             ]
            ],
            "type": "surface"
           }
          ],
          "table": [
           {
            "cells": {
             "fill": {
              "color": "#EBF0F8"
             },
             "line": {
              "color": "white"
             }
            },
            "header": {
             "fill": {
              "color": "#C8D4E3"
             },
             "line": {
              "color": "white"
             }
            },
            "type": "table"
           }
          ]
         },
         "layout": {
          "annotationdefaults": {
           "arrowcolor": "#2a3f5f",
           "arrowhead": 0,
           "arrowwidth": 1
          },
          "autotypenumbers": "strict",
          "coloraxis": {
           "colorbar": {
            "outlinewidth": 0,
            "ticks": ""
           }
          },
          "colorscale": {
           "diverging": [
            [
             0,
             "#8e0152"
            ],
            [
             0.1,
             "#c51b7d"
            ],
            [
             0.2,
             "#de77ae"
            ],
            [
             0.3,
             "#f1b6da"
            ],
            [
             0.4,
             "#fde0ef"
            ],
            [
             0.5,
             "#f7f7f7"
            ],
            [
             0.6,
             "#e6f5d0"
            ],
            [
             0.7,
             "#b8e186"
            ],
            [
             0.8,
             "#7fbc41"
            ],
            [
             0.9,
             "#4d9221"
            ],
            [
             1,
             "#276419"
            ]
           ],
           "sequential": [
            [
             0,
             "#0d0887"
            ],
            [
             0.1111111111111111,
             "#46039f"
            ],
            [
             0.2222222222222222,
             "#7201a8"
            ],
            [
             0.3333333333333333,
             "#9c179e"
            ],
            [
             0.4444444444444444,
             "#bd3786"
            ],
            [
             0.5555555555555556,
             "#d8576b"
            ],
            [
             0.6666666666666666,
             "#ed7953"
            ],
            [
             0.7777777777777778,
             "#fb9f3a"
            ],
            [
             0.8888888888888888,
             "#fdca26"
            ],
            [
             1,
             "#f0f921"
            ]
           ],
           "sequentialminus": [
            [
             0,
             "#0d0887"
            ],
            [
             0.1111111111111111,
             "#46039f"
            ],
            [
             0.2222222222222222,
             "#7201a8"
            ],
            [
             0.3333333333333333,
             "#9c179e"
            ],
            [
             0.4444444444444444,
             "#bd3786"
            ],
            [
             0.5555555555555556,
             "#d8576b"
            ],
            [
             0.6666666666666666,
             "#ed7953"
            ],
            [
             0.7777777777777778,
             "#fb9f3a"
            ],
            [
             0.8888888888888888,
             "#fdca26"
            ],
            [
             1,
             "#f0f921"
            ]
           ]
          },
          "colorway": [
           "#636efa",
           "#EF553B",
           "#00cc96",
           "#ab63fa",
           "#FFA15A",
           "#19d3f3",
           "#FF6692",
           "#B6E880",
           "#FF97FF",
           "#FECB52"
          ],
          "font": {
           "color": "#2a3f5f"
          },
          "geo": {
           "bgcolor": "white",
           "lakecolor": "white",
           "landcolor": "#E5ECF6",
           "showlakes": true,
           "showland": true,
           "subunitcolor": "white"
          },
          "hoverlabel": {
           "align": "left"
          },
          "hovermode": "closest",
          "mapbox": {
           "style": "light"
          },
          "paper_bgcolor": "white",
          "plot_bgcolor": "#E5ECF6",
          "polar": {
           "angularaxis": {
            "gridcolor": "white",
            "linecolor": "white",
            "ticks": ""
           },
           "bgcolor": "#E5ECF6",
           "radialaxis": {
            "gridcolor": "white",
            "linecolor": "white",
            "ticks": ""
           }
          },
          "scene": {
           "xaxis": {
            "backgroundcolor": "#E5ECF6",
            "gridcolor": "white",
            "gridwidth": 2,
            "linecolor": "white",
            "showbackground": true,
            "ticks": "",
            "zerolinecolor": "white"
           },
           "yaxis": {
            "backgroundcolor": "#E5ECF6",
            "gridcolor": "white",
            "gridwidth": 2,
            "linecolor": "white",
            "showbackground": true,
            "ticks": "",
            "zerolinecolor": "white"
           },
           "zaxis": {
            "backgroundcolor": "#E5ECF6",
            "gridcolor": "white",
            "gridwidth": 2,
            "linecolor": "white",
            "showbackground": true,
            "ticks": "",
            "zerolinecolor": "white"
           }
          },
          "shapedefaults": {
           "line": {
            "color": "#2a3f5f"
           }
          },
          "ternary": {
           "aaxis": {
            "gridcolor": "white",
            "linecolor": "white",
            "ticks": ""
           },
           "baxis": {
            "gridcolor": "white",
            "linecolor": "white",
            "ticks": ""
           },
           "bgcolor": "#E5ECF6",
           "caxis": {
            "gridcolor": "white",
            "linecolor": "white",
            "ticks": ""
           }
          },
          "title": {
           "x": 0.05
          },
          "xaxis": {
           "automargin": true,
           "gridcolor": "white",
           "linecolor": "white",
           "ticks": "",
           "title": {
            "standoff": 15
           },
           "zerolinecolor": "white",
           "zerolinewidth": 2
          },
          "yaxis": {
           "automargin": true,
           "gridcolor": "white",
           "linecolor": "white",
           "ticks": "",
           "title": {
            "standoff": 15
           },
           "zerolinecolor": "white",
           "zerolinewidth": 2
          }
         }
        },
        "xaxis": {
         "anchor": "y",
         "domain": [
          0,
          1
         ],
         "title": {
          "text": "interval_start"
         }
        },
        "yaxis": {
         "anchor": "x",
         "domain": [
          0,
          1
         ],
         "title": {
          "text": "consumption"
         }
        }
       }
      }
     },
     "metadata": {},
     "output_type": "display_data"
    }
   ],
   "source": [
    "import plotly.express as px\n",
    "\n",
    "px.bar(df, x=\"interval_start\", y=\"consumption\")"
   ]
  },
  {
   "cell_type": "code",
   "execution_count": null,
   "metadata": {},
   "outputs": [],
   "source": []
  }
 ],
 "metadata": {
  "kernelspec": {
   "display_name": "base",
   "language": "python",
   "name": "python3"
  },
  "language_info": {
   "codemirror_mode": {
    "name": "ipython",
    "version": 3
   },
   "file_extension": ".py",
   "mimetype": "text/x-python",
   "name": "python",
   "nbconvert_exporter": "python",
   "pygments_lexer": "ipython3",
   "version": "3.11.5"
  }
 },
 "nbformat": 4,
 "nbformat_minor": 2
}
